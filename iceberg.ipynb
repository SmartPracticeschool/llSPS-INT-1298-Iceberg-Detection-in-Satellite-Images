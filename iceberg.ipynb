{
 "cells": [
  {
   "cell_type": "code",
   "execution_count": 1,
   "metadata": {},
   "outputs": [
    {
     "name": "stderr",
     "output_type": "stream",
     "text": [
      "Using TensorFlow backend.\n"
     ]
    }
   ],
   "source": [
    "from keras.preprocessing.image import ImageDataGenerator"
   ]
  },
  {
   "cell_type": "code",
   "execution_count": 2,
   "metadata": {},
   "outputs": [],
   "source": [
    "train_datagen=ImageDataGenerator(rescale=1./255,\n",
    "                                 shear_range=0.2,\n",
    "                                 zoom_range=0.2,\n",
    "                                 horizontal_flip=True)\n",
    "test_datagen=ImageDataGenerator(rescale=1./255)"
   ]
  },
  {
   "cell_type": "code",
   "execution_count": 3,
   "metadata": {},
   "outputs": [
    {
     "name": "stdout",
     "output_type": "stream",
     "text": [
      "Found 199 images belonging to 2 classes.\n",
      "Found 99 images belonging to 2 classes.\n"
     ]
    }
   ],
   "source": [
    "x_train=train_datagen.flow_from_directory(r'C:/Users/jahnavi velagapudi/Desktop/Project/train_set',\n",
    "                                          target_size=(64,64),\n",
    "                                          batch_size=32,\n",
    "                                          class_mode='binary')\n",
    "x_test=test_datagen.flow_from_directory(r'C:/Users/jahnavi velagapudi/Desktop/Project/test_set',\n",
    "                                        target_size=(64,64),\n",
    "                                        batch_size=32,\n",
    "                                        class_mode='binary')"
   ]
  },
  {
   "cell_type": "code",
   "execution_count": 4,
   "metadata": {},
   "outputs": [],
   "source": [
    "from keras.models import Sequential\n",
    "from keras.layers import Dense\n",
    "from keras.layers import Convolution2D\n",
    "from keras.layers import MaxPooling2D\n",
    "from keras.layers import Flatten"
   ]
  },
  {
   "cell_type": "code",
   "execution_count": 5,
   "metadata": {},
   "outputs": [],
   "source": [
    "model=Sequential()"
   ]
  },
  {
   "cell_type": "code",
   "execution_count": 6,
   "metadata": {},
   "outputs": [],
   "source": [
    "model.add(Convolution2D(32,(3,3),input_shape=(64,64,3),activation='relu'))"
   ]
  },
  {
   "cell_type": "code",
   "execution_count": 8,
   "metadata": {},
   "outputs": [],
   "source": [
    "model.add(MaxPooling2D(pool_size=(2,2)))"
   ]
  },
  {
   "cell_type": "code",
   "execution_count": 9,
   "metadata": {},
   "outputs": [],
   "source": [
    "model.add(Flatten())"
   ]
  },
  {
   "cell_type": "code",
   "execution_count": 10,
   "metadata": {},
   "outputs": [
    {
     "name": "stderr",
     "output_type": "stream",
     "text": [
      "C:\\Users\\jahnavi velagapudi\\anaconda3\\lib\\site-packages\\ipykernel_launcher.py:1: UserWarning: Update your `Dense` call to the Keras 2 API: `Dense(activation=\"relu\", units=128, kernel_initializer=\"uniform\")`\n",
      "  \"\"\"Entry point for launching an IPython kernel.\n"
     ]
    }
   ],
   "source": [
    "model.add(Dense(init=\"uniform\",activation=\"relu\",output_dim=128))"
   ]
  },
  {
   "cell_type": "code",
   "execution_count": 11,
   "metadata": {},
   "outputs": [
    {
     "name": "stderr",
     "output_type": "stream",
     "text": [
      "C:\\Users\\jahnavi velagapudi\\anaconda3\\lib\\site-packages\\ipykernel_launcher.py:1: UserWarning: Update your `Dense` call to the Keras 2 API: `Dense(activation=\"sigmoid\", units=1, kernel_initializer=\"uniform\")`\n",
      "  \"\"\"Entry point for launching an IPython kernel.\n"
     ]
    }
   ],
   "source": [
    "model.add(Dense(init=\"uniform\",activation=\"sigmoid\",output_dim=1))"
   ]
  },
  {
   "cell_type": "code",
   "execution_count": 13,
   "metadata": {},
   "outputs": [],
   "source": [
    "model.compile(loss=\"binary_crossentropy\",optimizer=\"sgd\",metrics=[\"accuracy\"])"
   ]
  },
  {
   "cell_type": "code",
   "execution_count": 14,
   "metadata": {},
   "outputs": [
    {
     "name": "stdout",
     "output_type": "stream",
     "text": [
      "{'iceberg': 0, 'ships': 1}\n"
     ]
    }
   ],
   "source": [
    "print(x_train.class_indices)"
   ]
  },
  {
   "cell_type": "code",
   "execution_count": 15,
   "metadata": {},
   "outputs": [
    {
     "name": "stdout",
     "output_type": "stream",
     "text": [
      "WARNING:tensorflow:From C:\\Users\\jahnavi velagapudi\\anaconda3\\lib\\site-packages\\keras\\backend\\tensorflow_backend.py:422: The name tf.global_variables is deprecated. Please use tf.compat.v1.global_variables instead.\n",
      "\n",
      "Epoch 1/25\n",
      "500/500 [==============================] - 319s 637ms/step - loss: 0.6040 - accuracy: 0.7204 - val_loss: 0.3646 - val_accuracy: 0.7369\n",
      "Epoch 2/25\n",
      "500/500 [==============================] - 327s 655ms/step - loss: 0.2985 - accuracy: 0.8863 - val_loss: 0.2262 - val_accuracy: 0.9291\n",
      "Epoch 3/25\n",
      "500/500 [==============================] - 332s 664ms/step - loss: 0.1819 - accuracy: 0.9384 - val_loss: 0.0437 - val_accuracy: 0.9704\n",
      "Epoch 4/25\n",
      "500/500 [==============================] - 327s 653ms/step - loss: 0.1325 - accuracy: 0.9575 - val_loss: 0.0253 - val_accuracy: 0.9794\n",
      "Epoch 5/25\n",
      "500/500 [==============================] - 341s 681ms/step - loss: 0.0945 - accuracy: 0.9712 - val_loss: 0.0996 - val_accuracy: 0.9500\n",
      "Epoch 6/25\n",
      "500/500 [==============================] - 293s 586ms/step - loss: 0.0727 - accuracy: 0.9771 - val_loss: 0.1083 - val_accuracy: 0.9588\n",
      "Epoch 7/25\n",
      "500/500 [==============================] - 285s 570ms/step - loss: 0.0588 - accuracy: 0.9832 - val_loss: 0.0384 - val_accuracy: 0.9903\n",
      "Epoch 8/25\n",
      "500/500 [==============================] - 298s 596ms/step - loss: 0.0372 - accuracy: 0.9908 - val_loss: 0.0171 - val_accuracy: 0.9897\n",
      "Epoch 9/25\n",
      "500/500 [==============================] - 604s 1s/step - loss: 0.0284 - accuracy: 0.9942 - val_loss: 0.0319 - val_accuracy: 0.9899\n",
      "Epoch 10/25\n",
      "500/500 [==============================] - 217s 433ms/step - loss: 0.0268 - accuracy: 0.9947 - val_loss: 0.0348 - val_accuracy: 0.9897\n",
      "Epoch 11/25\n",
      "500/500 [==============================] - 327s 654ms/step - loss: 0.0174 - accuracy: 0.9975 - val_loss: 0.0658 - val_accuracy: 0.9704\n",
      "Epoch 12/25\n",
      "500/500 [==============================] - 327s 653ms/step - loss: 0.0261 - accuracy: 0.9956 - val_loss: 1.9518e-04 - val_accuracy: 0.9897\n",
      "Epoch 13/25\n",
      "500/500 [==============================] - 326s 653ms/step - loss: 0.0130 - accuracy: 0.9987 - val_loss: 0.0121 - val_accuracy: 0.9905\n",
      "Epoch 14/25\n",
      "500/500 [==============================] - 329s 658ms/step - loss: 0.0105 - accuracy: 0.9988 - val_loss: 0.0218 - val_accuracy: 0.9897\n",
      "Epoch 15/25\n",
      "500/500 [==============================] - 327s 655ms/step - loss: 0.0085 - accuracy: 0.9995 - val_loss: 0.0100 - val_accuracy: 1.0000\n",
      "Epoch 16/25\n",
      "500/500 [==============================] - 367s 733ms/step - loss: 0.0078 - accuracy: 0.9991 - val_loss: 7.3677e-08 - val_accuracy: 1.0000\n",
      "Epoch 17/25\n",
      "500/500 [==============================] - 1382s 3s/step - loss: 0.0067 - accuracy: 0.9996 - val_loss: 0.0211 - val_accuracy: 1.0000\n",
      "Epoch 18/25\n",
      "500/500 [==============================] - 326s 652ms/step - loss: 0.0059 - accuracy: 0.9994 - val_loss: 0.0437 - val_accuracy: 0.9897\n",
      "Epoch 19/25\n",
      "500/500 [==============================] - 328s 656ms/step - loss: 0.0046 - accuracy: 0.9998 - val_loss: 0.0227 - val_accuracy: 1.0000\n",
      "Epoch 20/25\n",
      "500/500 [==============================] - 306s 612ms/step - loss: 0.0282 - accuracy: 0.9965 - val_loss: 0.0036 - val_accuracy: 1.0000\n",
      "Epoch 21/25\n",
      "500/500 [==============================] - 327s 655ms/step - loss: 0.0053 - accuracy: 0.9997 - val_loss: 0.0080 - val_accuracy: 0.9899\n",
      "Epoch 22/25\n",
      "500/500 [==============================] - 326s 652ms/step - loss: 0.0042 - accuracy: 0.9998 - val_loss: 0.0204 - val_accuracy: 0.9903\n",
      "Epoch 23/25\n",
      "500/500 [==============================] - 783s 2s/step - loss: 0.0058 - accuracy: 0.9992 - val_loss: 0.0216 - val_accuracy: 1.0000\n",
      "Epoch 24/25\n",
      "500/500 [==============================] - 317s 635ms/step - loss: 0.0037 - accuracy: 0.9999 - val_loss: 1.4781e-07 - val_accuracy: 1.0000\n",
      "Epoch 25/25\n",
      "500/500 [==============================] - 325s 650ms/step - loss: 0.0033 - accuracy: 0.9999 - val_loss: 0.0096 - val_accuracy: 1.0000\n"
     ]
    },
    {
     "data": {
      "text/plain": [
       "<keras.callbacks.callbacks.History at 0x2be0c57cc48>"
      ]
     },
     "execution_count": 15,
     "metadata": {},
     "output_type": "execute_result"
    }
   ],
   "source": [
    "model.fit_generator(x_train,\n",
    "                    steps_per_epoch = 500,\n",
    "                    epochs = 25,\n",
    "                    validation_data = x_test,\n",
    "                    validation_steps = 63)"
   ]
  },
  {
   "cell_type": "code",
   "execution_count": 16,
   "metadata": {},
   "outputs": [],
   "source": [
    "model.save('mymodel.h5')"
   ]
  },
  {
   "cell_type": "code",
   "execution_count": 17,
   "metadata": {},
   "outputs": [],
   "source": [
    "from keras.models import load_model\n",
    "import numpy as np\n",
    "import cv2\n",
    "model=load_model('mymodel.h5')"
   ]
  },
  {
   "cell_type": "code",
   "execution_count": 18,
   "metadata": {},
   "outputs": [],
   "source": [
    "model.compile(loss=\"binary_crossentropy\",optimizer=\"adam\",metrics=[\"accuracy\"])"
   ]
  },
  {
   "cell_type": "code",
   "execution_count": 19,
   "metadata": {},
   "outputs": [],
   "source": [
    "from skimage.transform import resize\n",
    "def detect(frame):\n",
    "    try:\n",
    "        img = resize(frame,(64,64))\n",
    "        img = np.expand_dims(img,axis=0)\n",
    "        if(np.max(img)>1):\n",
    "            img = img/255.0\n",
    "        prediction = model.predict(img)\n",
    "        print(prediction)\n",
    "        prediction_class = model.predict_classes(img)\n",
    "        print(prediction_class)\n",
    "    except AttributeError:\n",
    "        print(\"Shape not found\")"
   ]
  },
  {
   "cell_type": "code",
   "execution_count": 20,
   "metadata": {},
   "outputs": [
    {
     "name": "stdout",
     "output_type": "stream",
     "text": [
      "[[1.]]\n",
      "[[1]]\n"
     ]
    }
   ],
   "source": [
    "frame=cv2.imread(\"C:/Users/jahnavi velagapudi/Desktop/Project/test_set/ships/ship1.jpg\")\n",
    "data = detect(frame)"
   ]
  },
  {
   "cell_type": "code",
   "execution_count": null,
   "metadata": {},
   "outputs": [],
   "source": []
  },
  {
   "cell_type": "code",
   "execution_count": null,
   "metadata": {},
   "outputs": [],
   "source": []
  }
 ],
 "metadata": {
  "kernelspec": {
   "display_name": "Python 3",
   "language": "python",
   "name": "python3"
  },
  "language_info": {
   "codemirror_mode": {
    "name": "ipython",
    "version": 3
   },
   "file_extension": ".py",
   "mimetype": "text/x-python",
   "name": "python",
   "nbconvert_exporter": "python",
   "pygments_lexer": "ipython3",
   "version": "3.7.6"
  }
 },
 "nbformat": 4,
 "nbformat_minor": 4
}
