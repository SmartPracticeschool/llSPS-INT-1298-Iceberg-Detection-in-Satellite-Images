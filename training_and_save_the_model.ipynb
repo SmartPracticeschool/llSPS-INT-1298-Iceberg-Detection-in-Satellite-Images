{
 "cells": [
  {
   "cell_type": "code",
   "execution_count": 1,
   "metadata": {},
   "outputs": [
    {
     "name": "stderr",
     "output_type": "stream",
     "text": [
      "Using TensorFlow backend.\n"
     ]
    }
   ],
   "source": [
    "from keras.preprocessing.image import ImageDataGenerator"
   ]
  },
  {
   "cell_type": "code",
   "execution_count": 3,
   "metadata": {},
   "outputs": [],
   "source": [
    "from keras.models import Sequential\n",
    "from keras.layers import Dense adey\n",
    "from keras.layers import Convolution2D\n",
    "from keras.layers import MaxPooling2D\n",
    "from keras.layers import Flatten"
   ]
  },
  {
   "cell_type": "code",
   "execution_count": 4,
   "metadata": {},
   "outputs": [],
   "source": [
    "model=Sequential()"
   ]
  },
  {
   "cell_type": "code",
   "execution_count": 5,
   "metadata": {},
   "outputs": [],
   "source": [
    "model.add(Convolution2D(32,(3,3),input_shape=(64,64,3),activation='relu'))"
   ]
  },
  {
   "cell_type": "code",
   "execution_count": 7,
   "metadata": {},
   "outputs": [],
   "source": [
    "model.add(MaxPooling2D(pool_size=(2,2)))"
   ]
  },
  {
   "cell_type": "code",
   "execution_count": 8,
   "metadata": {},
   "outputs": [],
   "source": [
    "model.add(Flatten())"
   ]
  },
  {
   "cell_type": "code",
   "execution_count": 9,
   "metadata": {},
   "outputs": [
    {
     "name": "stderr",
     "output_type": "stream",
     "text": [
      "C:\\Users\\jahnavi velagapudi\\anaconda3\\lib\\site-packages\\ipykernel_launcher.py:1: UserWarning: Update your `Dense` call to the Keras 2 API: `Dense(activation=\"relu\", units=128, kernel_initializer=\"uniform\")`\n",
      "  \"\"\"Entry point for launching an IPython kernel.\n"
     ]
    }
   ],
   "source": [
    "model.add(Dense(init=\"uniform\",activation=\"relu\",output_dim=128))"
   ]
  },
  {
   "cell_type": "code",
   "execution_count": 10,
   "metadata": {},
   "outputs": [
    {
     "name": "stderr",
     "output_type": "stream",
     "text": [
      "C:\\Users\\jahnavi velagapudi\\anaconda3\\lib\\site-packages\\ipykernel_launcher.py:1: UserWarning: Update your `Dense` call to the Keras 2 API: `Dense(activation=\"sigmoid\", units=1, kernel_initializer=\"uniform\")`\n",
      "  \"\"\"Entry point for launching an IPython kernel.\n"
     ]
    }
   ],
   "source": [
    "model.add(Dense(init=\"uniform\",activation=\"sigmoid\",output_dim=1))"
   ]
  },
  {
   "cell_type": "code",
   "execution_count": 12,
   "metadata": {},
   "outputs": [],
   "source": [
    "model.compile(loss=\"binary_crossentropy\",optimizer=\"sgd\",metrics=[\"accuracy\"])"
   ]
  },
  {
   "cell_type": "code",
   "execution_count": 14,
   "metadata": {},
   "outputs": [],
   "source": [
    "train_datagen=ImageDataGenerator(rescale=1./255,\n",
    "                                 shear_range=0.2,\n",
    "                                 zoom_range=0.2,\n",
    "                                 horizontal_flip=True)\n",
    "test_datagen=ImageDataGenerator(rescale=1./255)"
   ]
  },
  {
   "cell_type": "code",
   "execution_count": 15,
   "metadata": {},
   "outputs": [
    {
     "name": "stdout",
     "output_type": "stream",
     "text": [
      "Found 199 images belonging to 2 classes.\n",
      "Found 99 images belonging to 2 classes.\n"
     ]
    }
   ],
   "source": [
    "x_train=train_datagen.flow_from_directory(r'C:/Users/jahnavi velagapudi/Desktop/Project/train_set',\n",
    "                                          target_size=(64,64),\n",
    "                                          batch_size=32,\n",
    "                                          class_mode='binary')\n",
    "x_test=test_datagen.flow_from_directory(r'C:/Users/jahnavi velagapudi/Desktop/Project/test_set',\n",
    "                                        target_size=(64,64),\n",
    "                                        batch_size=32,\n",
    "                                        class_mode='binary')"
   ]
  },
  {
   "cell_type": "code",
   "execution_count": 16,
   "metadata": {},
   "outputs": [
    {
     "name": "stdout",
     "output_type": "stream",
     "text": [
      "{'iceberg': 0, 'ships': 1}\n"
     ]
    }
   ],
   "source": [
    "print(x_train.class_indices)"
   ]
  },
  {
   "cell_type": "code",
   "execution_count": 17,
   "metadata": {},
   "outputs": [
    {
     "name": "stdout",
     "output_type": "stream",
     "text": [
      "WARNING:tensorflow:From C:\\Users\\jahnavi velagapudi\\anaconda3\\lib\\site-packages\\keras\\backend\\tensorflow_backend.py:422: The name tf.global_variables is deprecated. Please use tf.compat.v1.global_variables instead.\n",
      "\n",
      "Epoch 1/25\n",
      "500/500 [==============================] - 151s 301ms/step - loss: 0.6200 - accuracy: 0.6853 - val_loss: 0.4485 - val_accuracy: 0.8280\n",
      "Epoch 2/25\n",
      "500/500 [==============================] - 150s 300ms/step - loss: 0.3020 - accuracy: 0.8879 - val_loss: 0.2101 - val_accuracy: 0.9085\n",
      "Epoch 3/25\n",
      "500/500 [==============================] - 151s 303ms/step - loss: 0.1756 - accuracy: 0.9397 - val_loss: 0.1999 - val_accuracy: 0.9497\n",
      "Epoch 4/25\n",
      "500/500 [==============================] - 147s 294ms/step - loss: 0.1224 - accuracy: 0.9599 - val_loss: 0.0411 - val_accuracy: 1.0000\n",
      "Epoch 5/25\n",
      "500/500 [==============================] - 149s 299ms/step - loss: 0.0931 - accuracy: 0.9722 - val_loss: 0.1665 - val_accuracy: 0.9190\n",
      "Epoch 6/25\n",
      "500/500 [==============================] - 147s 295ms/step - loss: 0.0633 - accuracy: 0.9808 - val_loss: 0.0120 - val_accuracy: 0.9903\n",
      "Epoch 7/25\n",
      "500/500 [==============================] - 147s 293ms/step - loss: 0.0513 - accuracy: 0.9852 - val_loss: 0.0864 - val_accuracy: 0.9691\n",
      "Epoch 8/25\n",
      "500/500 [==============================] - 145s 290ms/step - loss: 0.0458 - accuracy: 0.9898 - val_loss: 0.0128 - val_accuracy: 0.9800\n",
      "Epoch 9/25\n",
      "500/500 [==============================] - 146s 292ms/step - loss: 0.0421 - accuracy: 0.9914 - val_loss: 0.0833 - val_accuracy: 0.9798\n",
      "Epoch 10/25\n",
      "500/500 [==============================] - 148s 296ms/step - loss: 0.0271 - accuracy: 0.9949 - val_loss: 0.0392 - val_accuracy: 0.9903\n",
      "Epoch 11/25\n",
      "500/500 [==============================] - 145s 291ms/step - loss: 0.0171 - accuracy: 0.9975 - val_loss: 0.0636 - val_accuracy: 0.9794\n",
      "Epoch 12/25\n",
      "500/500 [==============================] - 146s 293ms/step - loss: 0.0146 - accuracy: 0.9981 - val_loss: 0.0131 - val_accuracy: 1.0000\n",
      "Epoch 13/25\n",
      "500/500 [==============================] - 144s 288ms/step - loss: 0.0126 - accuracy: 0.9985 - val_loss: 0.0285 - val_accuracy: 1.0000\n",
      "Epoch 14/25\n",
      "500/500 [==============================] - 145s 290ms/step - loss: 0.0100 - accuracy: 0.9992 - val_loss: 0.0165 - val_accuracy: 1.0000\n",
      "Epoch 15/25\n",
      "500/500 [==============================] - 145s 290ms/step - loss: 0.0099 - accuracy: 0.9989 - val_loss: 0.0165 - val_accuracy: 1.0000\n",
      "Epoch 16/25\n",
      "500/500 [==============================] - 146s 292ms/step - loss: 0.0223 - accuracy: 0.9954 - val_loss: 0.0287 - val_accuracy: 1.0000\n",
      "Epoch 17/25\n",
      "500/500 [==============================] - 144s 288ms/step - loss: 0.0074 - accuracy: 0.9992 - val_loss: 0.0110 - val_accuracy: 1.0000\n",
      "Epoch 18/25\n",
      "500/500 [==============================] - 145s 290ms/step - loss: 0.0055 - accuracy: 0.9999 - val_loss: 0.0387 - val_accuracy: 1.0000\n",
      "Epoch 19/25\n",
      "500/500 [==============================] - 148s 295ms/step - loss: 0.0063 - accuracy: 0.9993 - val_loss: 0.0036 - val_accuracy: 1.0000\n",
      "Epoch 20/25\n",
      "500/500 [==============================] - 154s 308ms/step - loss: 0.0056 - accuracy: 0.9995 - val_loss: 0.0013 - val_accuracy: 1.0000\n",
      "Epoch 21/25\n",
      "500/500 [==============================] - 168s 336ms/step - loss: 0.0047 - accuracy: 0.9998 - val_loss: 0.0105 - val_accuracy: 1.0000\n",
      "Epoch 22/25\n",
      "500/500 [==============================] - 151s 301ms/step - loss: 0.0044 - accuracy: 0.9998 - val_loss: 0.0033 - val_accuracy: 1.0000\n",
      "Epoch 23/25\n",
      "500/500 [==============================] - 156s 311ms/step - loss: 0.0033 - accuracy: 1.0000 - val_loss: 0.0039 - val_accuracy: 1.0000\n",
      "Epoch 24/25\n",
      "500/500 [==============================] - 158s 316ms/step - loss: 0.0034 - accuracy: 0.9999 - val_loss: 0.0034 - val_accuracy: 1.0000\n",
      "Epoch 25/25\n",
      "500/500 [==============================] - 161s 323ms/step - loss: 0.0035 - accuracy: 0.9996 - val_loss: 0.0086 - val_accuracy: 1.0000\n"
     ]
    },
    {
     "data": {
      "text/plain": [
       "<keras.callbacks.callbacks.History at 0x22092bd83c8>"
      ]
     },
     "execution_count": 17,
     "metadata": {},
     "output_type": "execute_result"
    }
   ],
   "source": [
    "model.fit_generator(x_train,\n",
    "                    steps_per_epoch = 500,\n",
    "                    epochs = 25,\n",
    "                    validation_data = x_test,\n",
    "                    validation_steps = 63)"
   ]
  },
  {
   "cell_type": "code",
   "execution_count": 18,
   "metadata": {},
   "outputs": [],
   "source": [
    "model.save('mymodel.h5')"
   ]
  }
 ],
 "metadata": {
  "kernelspec": {
   "display_name": "Python 3",
   "language": "python",
   "name": "python3"
  },
  "language_info": {
   "codemirror_mode": {
    "name": "ipython",
    "version": 3
   },
   "file_extension": ".py",
   "mimetype": "text/x-python",
   "name": "python",
   "nbconvert_exporter": "python",
   "pygments_lexer": "ipython3",
   "version": "3.7.6"
  }
 },
 "nbformat": 4,
 "nbformat_minor": 4
}
